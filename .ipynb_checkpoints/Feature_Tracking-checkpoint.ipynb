{
 "cells": [
  {
   "cell_type": "markdown",
   "metadata": {},
   "source": [
    "Target Variable: *'Min_Played'/'Games_Played'\n",
    "\n",
    "Not Features: 'Player','Year','Team', 'Min_Played','Games_Played'\n",
    "\n",
    "Features Currently Included: *'Games_Started'/'Games_Played',*'PTS'/'Games_Played', 'PER', 'TS%',*'DRB%','TRB%','AST%','STL%','BLK%','TOV%','USG%', 'WS/40'\n",
    "\n",
    "Features Currently Excluded:'Position','FG','FGA','FG%','3P','3PA','3P%','2P','2PA','2P%','FT','FTA','FT%','ORB','ORB%',\n",
    "'TRB','AST','STL','BLK','TOV','PF','eFG%', '3PAr','FTr','OWS','DWS','WS'"
   ]
  },
  {
   "cell_type": "markdown",
   "metadata": {},
   "source": [
    "made new columns"
   ]
  },
  {
   "cell_type": "markdown",
   "metadata": {},
   "source": [
    "reduced_df has all player records, including people with 0 minutes  and all NaNs"
   ]
  },
  {
   "cell_type": "markdown",
   "metadata": {},
   "source": [
    "X_train_val, X_test, y_train_val, y_test = train_test_split(reduced_df[['Start_Over_Played', 'Points_Per_Game', 'PER','TS%','ORB%','DRB%','AST%',\n",
    "                                                        'STL%','BLK%','TOV%','USG%', 'WS/40']], reduced_df['Min_Played_Per_Game'], test_size=0.20, random_state=69)\n",
    "X_train, X_val, y_train, y_val = train_test_split(X_train_val, y_train_val, test_size=.25, random_state=420)"
   ]
  }
 ],
 "metadata": {
  "kernelspec": {
   "display_name": "Python 3",
   "language": "python",
   "name": "python3"
  },
  "language_info": {
   "codemirror_mode": {
    "name": "ipython",
    "version": 3
   },
   "file_extension": ".py",
   "mimetype": "text/x-python",
   "name": "python",
   "nbconvert_exporter": "python",
   "pygments_lexer": "ipython3",
   "version": "3.7.6"
  }
 },
 "nbformat": 4,
 "nbformat_minor": 4
}
