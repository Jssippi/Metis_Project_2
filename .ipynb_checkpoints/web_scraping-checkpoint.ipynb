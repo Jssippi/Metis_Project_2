{
 "cells": [
  {
   "cell_type": "code",
   "execution_count": 233,
   "metadata": {},
   "outputs": [],
   "source": [
    "import pandas as pd\n",
    "import numpy as np\n",
    "from bs4 import BeautifulSoup\n",
    "import requests\n",
    "import re\n",
    "import csv"
   ]
  },
  {
   "cell_type": "code",
   "execution_count": 238,
   "metadata": {},
   "outputs": [],
   "source": [
    "df_basic_list=[]\n",
    "\n",
    "for year in range(1997,2020):\n",
    "    url = f'https://www.basketball-reference.com/wnba/years/{year}_totals.html'\n",
    "    response = requests.get(url)\n",
    "    page = response.text\n",
    "    soup = BeautifulSoup(page, 'html5lib')\n",
    "    for row in soup.find_all(class_=\"full_table\"):\n",
    "        current_dict={}\n",
    "        current_dict['Player'] = row.find(attrs={'data-stat':'player'}).text\n",
    "        current_dict['Year'] = year\n",
    "        current_dict['Team'] = row.find(attrs={'data-stat':'team_id'}).text\n",
    "        current_dict['Position'] = row.find(attrs={'data-stat':'pos'}).text\n",
    "        current_dict['Games_Played'] = row.find(attrs={'data-stat':'g'}).text\n",
    "        current_dict['Games_Started'] = row.find(attrs={'data-stat':'gs'}).text\n",
    "        current_dict['Min_Played'] = row.find(attrs={'data-stat':'mp'}).text\n",
    "        current_dict['FG'] = row.find(attrs={'data-stat':'fg'}).text\n",
    "        current_dict['FGA'] = row.find(attrs={'data-stat':'fga'}).text\n",
    "        current_dict['FG%'] = row.find(attrs={'data-stat':'fg_pct'}).text\n",
    "        current_dict['3P'] = row.find(attrs={'data-stat':'fg3'}).text\n",
    "        current_dict['3PA'] = row.find(attrs={'data-stat':'fg3a'}).text\n",
    "        current_dict['3P%'] = row.find(attrs={'data-stat':'fg3_pct'}).text\n",
    "        current_dict['2P'] = row.find(attrs={'data-stat':'fg2'}).text\n",
    "        current_dict['2PA'] = row.find(attrs={'data-stat':'fg2a'}).text\n",
    "        current_dict['2P%'] = row.find(attrs={'data-stat':'fg2_pct'}).text\n",
    "        current_dict['eFG%'] = row.find(attrs={'data-stat':'efg_pct'}).text\n",
    "        current_dict['FT'] = row.find(attrs={'data-stat':'ft'}).text\n",
    "        current_dict['FTA'] = row.find(attrs={'data-stat':'fta'}).text\n",
    "        current_dict['FT%'] = row.find(attrs={'data-stat':'ft_pct'}).text\n",
    "        current_dict['ORB'] = row.find(attrs={'data-stat':'orb'}).text\n",
    "        current_dict['TRB'] = row.find(attrs={'data-stat':'trb'}).text\n",
    "        current_dict['AST'] = row.find(attrs={'data-stat':'ast'}).text\n",
    "        current_dict['STL'] = row.find(attrs={'data-stat':'stl'}).text\n",
    "        current_dict['BLK'] = row.find(attrs={'data-stat':'blk'}).text\n",
    "        current_dict['TOV'] = row.find(attrs={'data-stat':'tov'}).text\n",
    "        current_dict['PF'] = row.find(attrs={'data-stat':'pf'}).text\n",
    "        current_dict['PTS'] = row.find(attrs={'data-stat':'pts'}).text\n",
    "        df_basic_list.append(current_dict)\n",
    "\n",
    "#current_dict[''] = row.find(attrs={'data-stat':''}).text"
   ]
  },
  {
   "cell_type": "code",
   "execution_count": 239,
   "metadata": {},
   "outputs": [
    {
     "data": {
      "text/plain": [
       "200"
      ]
     },
     "execution_count": 239,
     "metadata": {},
     "output_type": "execute_result"
    }
   ],
   "source": [
    "response.status_code"
   ]
  },
  {
   "cell_type": "code",
   "execution_count": 240,
   "metadata": {},
   "outputs": [
    {
     "data": {
      "text/plain": [
       "3730"
      ]
     },
     "execution_count": 240,
     "metadata": {},
     "output_type": "execute_result"
    }
   ],
   "source": [
    "len(df_basic_list)"
   ]
  },
  {
   "cell_type": "code",
   "execution_count": 241,
   "metadata": {},
   "outputs": [],
   "source": [
    "keys = df_basic_list[0].keys()\n",
    "with open('wnba_basic_list.csv', 'w') as output_file:\n",
    "    dict_writer = csv.DictWriter(output_file, keys)\n",
    "    dict_writer.writeheader()\n",
    "    dict_writer.writerows(df_basic_list)"
   ]
  },
  {
   "cell_type": "code",
   "execution_count": 245,
   "metadata": {},
   "outputs": [],
   "source": [
    "df_advanced_list=[]\n",
    "\n",
    "for year in range(1997,2020):\n",
    "    url = f'https://www.basketball-reference.com/wnba/years/{year}_advanced.html'\n",
    "    response = requests.get(url)\n",
    "    page = response.text\n",
    "    soup = BeautifulSoup(page, 'html5lib')\n",
    "    for row in soup.find_all(class_=\"full_table\"):\n",
    "        current_dict={}\n",
    "        current_dict['Player'] = row.find(attrs={'data-stat':'player'}).text\n",
    "        current_dict['Year'] = year\n",
    "        current_dict['Team'] = row.find(attrs={'data-stat':'team_id'}).text\n",
    "        current_dict['Position'] = row.find(attrs={'data-stat':'pos'}).text\n",
    "        current_dict['Games_Played'] = row.find(attrs={'data-stat':'g'}).text\n",
    "        current_dict['Min_Played'] = row.find(attrs={'data-stat':'mp'}).text\n",
    "        current_dict['PER'] = row.find(attrs={'data-stat':'per'}).text\n",
    "        current_dict['TS%'] = row.find(attrs={'data-stat':'ts_pct'}).text\n",
    "        current_dict['3PAr'] = row.find(attrs={'data-stat':'fg3a_per_fga_pct'}).text\n",
    "        current_dict['FTr'] = row.find(attrs={'data-stat':'fta_per_fga_pct'}).text\n",
    "        current_dict['ORB%'] = row.find(attrs={'data-stat':'orb_pct'}).text\n",
    "        current_dict['TRB%'] = row.find(attrs={'data-stat':'trb_pct'}).text\n",
    "        current_dict['AST%'] = row.find(attrs={'data-stat':'ast_pct'}).text\n",
    "        current_dict['STL%'] = row.find(attrs={'data-stat':'stl_pct'}).text\n",
    "        current_dict['BLK%'] = row.find(attrs={'data-stat':'blk_pct'}).text\n",
    "        current_dict['TOV%'] = row.find(attrs={'data-stat':'tov_pct'}).text\n",
    "        current_dict['USG%'] = row.find(attrs={'data-stat':'usg_pct'}).text\n",
    "        current_dict['OWS'] = row.find(attrs={'data-stat':'ows'}).text\n",
    "        current_dict['DWS'] = row.find(attrs={'data-stat':'dws'}).text\n",
    "        current_dict['WS'] = row.find(attrs={'data-stat':'ws'}).text\n",
    "        current_dict['WS/40'] = row.find(attrs={'data-stat':'ws_per_40'}).text\n",
    "        df_advanced_list.append(current_dict)"
   ]
  },
  {
   "cell_type": "code",
   "execution_count": 246,
   "metadata": {},
   "outputs": [
    {
     "data": {
      "text/plain": [
       "200"
      ]
     },
     "execution_count": 246,
     "metadata": {},
     "output_type": "execute_result"
    }
   ],
   "source": [
    "response.status_code"
   ]
  },
  {
   "cell_type": "code",
   "execution_count": 247,
   "metadata": {},
   "outputs": [
    {
     "data": {
      "text/plain": [
       "3730"
      ]
     },
     "execution_count": 247,
     "metadata": {},
     "output_type": "execute_result"
    }
   ],
   "source": [
    "len(df_advanced_list)"
   ]
  },
  {
   "cell_type": "code",
   "execution_count": 248,
   "metadata": {},
   "outputs": [],
   "source": [
    "keys = df_advanced_list[0].keys()\n",
    "with open('wnba_advanced_list.csv', 'w') as output_file:\n",
    "    dict_writer = csv.DictWriter(output_file, keys)\n",
    "    dict_writer.writeheader()\n",
    "    dict_writer.writerows(df_advanced_list)"
   ]
  },
  {
   "cell_type": "code",
   "execution_count": null,
   "metadata": {},
   "outputs": [],
   "source": []
  }
 ],
 "metadata": {
  "kernelspec": {
   "display_name": "Python 3",
   "language": "python",
   "name": "python3"
  },
  "language_info": {
   "codemirror_mode": {
    "name": "ipython",
    "version": 3
   },
   "file_extension": ".py",
   "mimetype": "text/x-python",
   "name": "python",
   "nbconvert_exporter": "python",
   "pygments_lexer": "ipython3",
   "version": "3.7.6"
  }
 },
 "nbformat": 4,
 "nbformat_minor": 4
}
