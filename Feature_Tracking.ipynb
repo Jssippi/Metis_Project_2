{
 "cells": [
  {
   "cell_type": "markdown",
   "metadata": {},
   "source": [
    "Not Features: 'Player','Year','Team', 'Min_Played'\n",
    "\n",
    "Features Currently Included: 'Position', 'Games_Started','FT%', 'PTS', 'PER', 'TS%','ORB%','TRB%','AST%','STL%','BLK%','TOV%','USG%', 'WS/40'\n",
    "\n",
    "Features Currently Excluded: 'Games_Played', 'FG','FGA','FG%','3P','3PA','3P%','2P','2PA','2P%','FT','FTA','ORB','TRB','AST','STL','BLK','TOV','PF','eFG%', '3PAr','FTr','OWS','DWS','WS'"
   ]
  }
 ],
 "metadata": {
  "kernelspec": {
   "display_name": "Python 3",
   "language": "python",
   "name": "python3"
  },
  "language_info": {
   "codemirror_mode": {
    "name": "ipython",
    "version": 3
   },
   "file_extension": ".py",
   "mimetype": "text/x-python",
   "name": "python",
   "nbconvert_exporter": "python",
   "pygments_lexer": "ipython3",
   "version": "3.7.6"
  }
 },
 "nbformat": 4,
 "nbformat_minor": 4
}
