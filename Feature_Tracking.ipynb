{
 "cells": [
  {
   "cell_type": "markdown",
   "metadata": {},
   "source": [
    "Target Variable: *'Min_Played_Per_Game'\n",
    "\n",
    "Not Features: 'Player','Year','Team', 'Min_Played','Games_Played'\n",
    "\n",
    "Features Currently Included: @'Start_Over_Played',@'Points_Per_Game', 'PER', 'TS%',@'DRB%','TRB%','AST%','STL%','BLK%','TOV%','USG%', 'WS/40', 'OWS_Per_Game', 'DWS_Per_Game'\n",
    "\n",
    "Features Currently Excluded:'Position','FG','FGA','FG%','3P','3PA','3P%','2P','2PA','2P%','FT','FTA','FT%','ORB','ORB%',\n",
    "'TRB','AST','STL','BLK','TOV','PF','eFG%', '3PAr','FTr','OWS','DWS','WS','PTS','Games_Started'"
   ]
  },
  {
   "cell_type": "markdown",
   "metadata": {},
   "source": [
    "Offense:'PTS', 'TS%', 'AST%', 'TOV%', 'ORB%', 'USG%', 'PF'"
   ]
  },
  {
   "cell_type": "markdown",
   "metadata": {},
   "source": [
    "Defense:'DRB%', 'STL%', 'BLK%', 'DWS_Per_Game', 'PF_Per_Game'"
   ]
  },
  {
   "cell_type": "markdown",
   "metadata": {},
   "source": [
    "Overall: 'PER', 'Start_Over_Played', 'WS/40', 'PF', 'C,'C-F','F','F-C','F-G','G','G-F'"
   ]
  },
  {
   "cell_type": "markdown",
   "metadata": {},
   "source": [
    "made new columns"
   ]
  },
  {
   "cell_type": "markdown",
   "metadata": {},
   "source": [
    "reduced_df has all player records, including people with 0 minutes  and all NaNs"
   ]
  },
  {
   "cell_type": "markdown",
   "metadata": {},
   "source": [
    "[('DRB%', 0.16160186493676595),\n",
    " ('STL%', -0.7249712730215957),\n",
    " ('BLK%', -1.5193255292742551),\n",
    " ('DWS_Per_Game', 177.154190509464),\n",
    " ('PF_Per_Game', 6.288805084362138)]\n",
    "Simple mean cv r^2: 0.646 +- 0.017\n",
    "\n",
    "[('DRB%', 0.40245721943850316),\n",
    " ('STL%', -0.7450166925025957),\n",
    " ('BLK%', -2.566810965275535),\n",
    " ('DWS_Per_Game', 3.611898134059651),\n",
    " ('PF_Per_Game', 5.364469942492107)]\n",
    "Simple mean cv r^2: 0.646 +- 0.017"
   ]
  },
  {
   "cell_type": "code",
   "execution_count": null,
   "metadata": {},
   "outputs": [],
   "source": []
  },
  {
   "cell_type": "markdown",
   "metadata": {},
   "source": [
    "[('Points_Per_Game', 1.6925140430986294),\n",
    " ('TS%', -6.106959842052824),\n",
    " ('AST%', 0.14651042112861462),\n",
    " ('TOV%', -0.0025957442373404217),\n",
    " ('ORB%', -0.08467451626900088),\n",
    " ('USG%', -0.5853724410353701),\n",
    " ('PF_Per_Game', 2.653991950228149)]\n",
    " Simple mean cv r^2: 0.899 +- 0.006\n",
    "\n",
    "[('Points_Per_Game', 8.398006790835582),\n",
    " ('TS%', -0.5773467578219879),\n",
    " ('AST%', 1.1217567256177308),\n",
    " ('TOV%', -0.01936322306886103),\n",
    " ('ORB%', -0.34597853053644956),\n",
    " ('USG%', -2.7755891564098247),\n",
    " ('PF_Per_Game', 2.263905440481457)\n",
    "Simple mean cv r^2: 0.899 +- 0.006\n"
   ]
  },
  {
   "cell_type": "code",
   "execution_count": null,
   "metadata": {},
   "outputs": [],
   "source": []
  },
  {
   "cell_type": "code",
   "execution_count": null,
   "metadata": {},
   "outputs": [],
   "source": []
  },
  {
   "cell_type": "code",
   "execution_count": null,
   "metadata": {},
   "outputs": [],
   "source": []
  },
  {
   "cell_type": "code",
   "execution_count": null,
   "metadata": {},
   "outputs": [],
   "source": []
  },
  {
   "cell_type": "code",
   "execution_count": null,
   "metadata": {},
   "outputs": [],
   "source": []
  },
  {
   "cell_type": "code",
   "execution_count": null,
   "metadata": {},
   "outputs": [],
   "source": []
  },
  {
   "cell_type": "code",
   "execution_count": null,
   "metadata": {},
   "outputs": [],
   "source": []
  },
  {
   "cell_type": "code",
   "execution_count": null,
   "metadata": {},
   "outputs": [],
   "source": [
    "X_train_val, X_test, y_train_val, y_test = train_test_split(X , y, test_size=0.20, random_state=69)\n",
    "kf = KFold(n_splits=5, shuffle=True, random_state = 420)"
   ]
  },
  {
   "cell_type": "code",
   "execution_count": null,
   "metadata": {},
   "outputs": [],
   "source": []
  },
  {
   "cell_type": "code",
   "execution_count": null,
   "metadata": {},
   "outputs": [],
   "source": []
  },
  {
   "cell_type": "code",
   "execution_count": null,
   "metadata": {},
   "outputs": [],
   "source": []
  },
  {
   "cell_type": "code",
   "execution_count": null,
   "metadata": {},
   "outputs": [],
   "source": []
  },
  {
   "cell_type": "code",
   "execution_count": null,
   "metadata": {},
   "outputs": [],
   "source": []
  },
  {
   "cell_type": "code",
   "execution_count": null,
   "metadata": {},
   "outputs": [],
   "source": []
  },
  {
   "cell_type": "code",
   "execution_count": null,
   "metadata": {},
   "outputs": [],
   "source": []
  },
  {
   "cell_type": "code",
   "execution_count": null,
   "metadata": {},
   "outputs": [],
   "source": []
  },
  {
   "cell_type": "code",
   "execution_count": null,
   "metadata": {},
   "outputs": [],
   "source": []
  },
  {
   "cell_type": "code",
   "execution_count": null,
   "metadata": {},
   "outputs": [],
   "source": []
  },
  {
   "cell_type": "code",
   "execution_count": null,
   "metadata": {},
   "outputs": [],
   "source": []
  },
  {
   "cell_type": "markdown",
   "metadata": {},
   "source": [
    "[['Start_Over_Played', 'Points_Per_Game', 'PER','TS%','ORB%','DRB%','AST%',\n",
    "                                                        'STL%','BLK%','TOV%','USG%', 'WS/40']]\n",
    "\n",
    "\n",
    "Simple regression scores:  [0.917482406172412, 0.9189021565701045, 0.9044584985739126, 0.9156872581633596, 0.9144577821444801]\n",
    "Simple mean cv r^2: 0.914 +- 0.005\n",
    "\n",
    "[('Start_Over_Played', 7.973035392177993),\n",
    " ('Points_Per_Game', 1.4424443346158726),\n",
    " ('PER', -0.07447918779661308),\n",
    " ('TS%', 4.609943225203257),\n",
    " ('ORB%', 0.1160116851802565),\n",
    " ('DRB%', 0.01686254215726996),\n",
    " ('AST%', 0.1221619142126478),\n",
    " ('STL%', 0.3726636498852456),\n",
    " ('BLK%', -0.0341189343787672),\n",
    " ('TOV%', -0.04632460518667772),\n",
    " ('USG%', -0.44251599179758355),\n",
    " ('WS/40', -7.263188326854404)]"
   ]
  },
  {
   "cell_type": "markdown",
   "metadata": {},
   "source": [
    "['Min_Played_Per_Game', 'Start_Over_Played', 'Points_Per_Game', 'PER',\n",
    "                             'TS%','ORB%','DRB%','AST%','STL%','BLK%','TOV%','USG%', 'OWS', 'DWS']]\n",
    "Simple regression scores:  [0.9339334310291332, 0.9306347953323538, 0.915168797286053, 0.9257204535339321, 0.9235222100781332]\n",
    "Simple mean cv r^2: 0.926 +- 0.006\n",
    "\n",
    "[('Start_Over_Played', 7.064162656082591),\n",
    " ('Points_Per_Game', 1.6450734497405826),\n",
    " ('PER', -0.12387635063017254),\n",
    " ('TS%', 3.186636232670938),\n",
    " ('ORB%', 0.08640142481549885),\n",
    " ('DRB%', -0.06293479513852647),\n",
    " ('AST%', 0.11286234730479525),\n",
    " ('STL%', 0.1815322169666207),\n",
    " ('BLK%', -0.10520505937607678),\n",
    " ('TOV%', -0.03144461477379537),\n",
    " ('USG%', -0.44870221582825376),\n",
    " ('OWS', -1.2747896026615742),\n",
    " ('DWS', 1.4199217842104113)]"
   ]
  },
  {
   "cell_type": "code",
   "execution_count": null,
   "metadata": {},
   "outputs": [],
   "source": []
  },
  {
   "cell_type": "markdown",
   "metadata": {},
   "source": [
    "main_df['OWS_Per_Games'] = main_df['OWS'] / main_df['Games_Played']\n",
    "main_df['DWS_Per_Games'] = main_df['DWS'] / main_df['Games_Played']\n",
    "\n",
    "'Min_Played_Per_Game', 'Start_Over_Played', 'Points_Per_Game', 'PER',\n",
    "                             'TS%','ORB%','DRB%','AST%','STL%','BLK%','TOV%','USG%','OWS_Per_Games', 'DWS_Per_Games'\n",
    "                             \n",
    "Simple regression scores:  [0.9356494650154288, 0.9332429231346604, 0.9190059257542347, 0.9274816706090097, 0.9250973072238754]\n",
    "Simple mean cv r^2: 0.928 +- 0.006\n",
    "'Start_Over_Played', 6.897470825581393),\n",
    " ('Points_Per_Game', 1.6996856482099714),\n",
    " ('PER', -0.038273781539274424),\n",
    " ('TS%', 3.354402601503415),\n",
    " ('ORB%', 0.07321956455446588),\n",
    " ('DRB%', -0.1009338021926646),\n",
    " ('AST%', 0.11295803939719917),\n",
    " ('STL%', 0.08257902172235106),\n",
    " ('BLK%', -0.1267016126237986),\n",
    " ('TOV%', -0.04217448376911791),\n",
    " ('USG%', -0.4958334806675539),\n",
    " ('OWS_Per_Games', -49.147422789030706),\n",
    " ('DWS_Per_Games', 40.46879022614139)"
   ]
  },
  {
   "cell_type": "code",
   "execution_count": null,
   "metadata": {},
   "outputs": [],
   "source": []
  },
  {
   "cell_type": "markdown",
   "metadata": {},
   "source": [
    "'Min_Played', 'Start_Over_Played', 'Points_Per_Game', 'PER',\n",
    "                             'TS%','ORB%','DRB%','AST%','STL%','BLK%','TOV%','USG%','OWS_Per_Games', 'DWS_Per_Games'\n",
    "Simple regression scores:  [0.8474048859532735, 0.8268568456286151, 0.7755869583399778, 0.8196602639712288, 0.8264596564840809]\n",
    "Simple mean cv r^2: 0.819 +- 0.024\n",
    "[('Start_Over_Played', 6.897470825581393),\n",
    " ('Points_Per_Game', 1.6996856482099714),\n",
    " ('PER', -0.038273781539274424),\n",
    " ('TS%', 3.354402601503415),\n",
    " ('ORB%', 0.07321956455446588),\n",
    " ('DRB%', -0.1009338021926646),\n",
    " ('AST%', 0.11295803939719917),\n",
    " ('STL%', 0.08257902172235106),\n",
    " ('BLK%', -0.1267016126237986),\n",
    " ('TOV%', -0.04217448376911791),\n",
    " ('USG%', -0.4958334806675539),\n",
    " ('OWS_Per_Games', -49.147422789030706),\n",
    " ('DWS_Per_Games', 40.46879022614139)]\n",
    "    "
   ]
  },
  {
   "cell_type": "code",
   "execution_count": null,
   "metadata": {},
   "outputs": [],
   "source": []
  },
  {
   "cell_type": "markdown",
   "metadata": {},
   "source": [
    "'Min_Played_Per_Game', 'Start_Over_Played', 'Points_Per_Game', 'PER',\n",
    "                             'TS%','ORB%','DRB%','AST%','STL%','BLK%','TOV%','USG%','WS'\n",
    "Simple regression scores:  [0.9190521848017812, 0.9218132619740473, 0.9033534634112679, 0.916834222235587, 0.9164575624212519]\n",
    "Simple mean cv r^2: 0.916 +- 0.00\n",
    "[('Start_Over_Played', 7.982445054296434),\n",
    " ('Points_Per_Game', 1.5754748753291516),\n",
    " ('PER', -0.1698450805396977),\n",
    " ('TS%', 3.7729525072329557),\n",
    " ('ORB%', 0.14455019694630722),\n",
    " ('DRB%', 0.04031645010131967),\n",
    " ('AST%', 0.12749961226125064),\n",
    " ('STL%', 0.4190427540456209),\n",
    " ('BLK%', -0.011925526373319721),\n",
    " ('TOV%', -0.03822392325068783),\n",
    " ('USG%', -0.43654719104668355),\n",
    " ('WS', -0.45908570853694886)]"
   ]
  },
  {
   "cell_type": "code",
   "execution_count": null,
   "metadata": {},
   "outputs": [],
   "source": []
  },
  {
   "cell_type": "markdown",
   "metadata": {},
   "source": [
    "X_base = main_df[['Start_Over_Played', 'Points_Per_Game', 'PER','TS%','ORB%','DRB%','AST%','STL%','BLK%','TOV%','USG%']]\n",
    "Simple regression scores:  [0.9146681420541135, 0.91768163783736, 0.905135461004402, 0.909784646416502, 0.9216048419723735]\n",
    "Simple mean cv r^2: 0.914 +- 0.006\n",
    "[('Start_Over_Played', 8.657680839112562),\n",
    " ('Points_Per_Game', 1.3122644069565468),\n",
    " ('PER', -0.11616571421674261),\n",
    " ('TS%', 3.2842723931617193),\n",
    " ('ORB%', 0.06997069647287715),\n",
    " ('DRB%', -0.022345482815146773),\n",
    " ('AST%', 0.110887430322107),\n",
    " ('STL%', 0.27757093002542504),\n",
    " ('BLK%', -0.007451350900803701),\n",
    " ('TOV%', -0.027725348700337993),\n",
    " ('USG%', -0.3555314741264716)]\n",
    "\n"
   ]
  },
  {
   "cell_type": "code",
   "execution_count": null,
   "metadata": {},
   "outputs": [],
   "source": []
  }
 ],
 "metadata": {
  "kernelspec": {
   "display_name": "Python 3",
   "language": "python",
   "name": "python3"
  },
  "language_info": {
   "codemirror_mode": {
    "name": "ipython",
    "version": 3
   },
   "file_extension": ".py",
   "mimetype": "text/x-python",
   "name": "python",
   "nbconvert_exporter": "python",
   "pygments_lexer": "ipython3",
   "version": "3.7.6"
  }
 },
 "nbformat": 4,
 "nbformat_minor": 4
}
