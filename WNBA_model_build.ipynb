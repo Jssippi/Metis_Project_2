{
 "cells": [
  {
   "cell_type": "code",
   "execution_count": 16,
   "metadata": {},
   "outputs": [],
   "source": [
    "import numpy as np\n",
    "from sklearn.linear_model import LinearRegression, Lasso, LassoCV, Ridge, RidgeCV\n",
    "from sklearn.model_selection import train_test_split, cross_val_score\n",
    "from sklearn.preprocessing import StandardScaler, PolynomialFeatures\n",
    "from sklearn.metrics import r2_score\n",
    "import seaborn as sns\n",
    "import pandas as pd\n",
    "%matplotlib inline\n",
    "sns.set()"
   ]
  },
  {
   "cell_type": "code",
   "execution_count": 17,
   "metadata": {},
   "outputs": [],
   "source": [
    "main_df = pd.read_pickle('wnba_total_df.pkl')"
   ]
  },
  {
   "cell_type": "code",
   "execution_count": 18,
   "metadata": {},
   "outputs": [
    {
     "name": "stdout",
     "output_type": "stream",
     "text": [
      "<class 'pandas.core.frame.DataFrame'>\n",
      "Int64Index: 3730 entries, 0 to 3729\n",
      "Data columns (total 43 columns):\n",
      " #   Column         Non-Null Count  Dtype  \n",
      "---  ------         --------------  -----  \n",
      " 0   Player         3730 non-null   object \n",
      " 1   Year           3730 non-null   int64  \n",
      " 2   Team           3730 non-null   object \n",
      " 3   Position       3708 non-null   object \n",
      " 4   Games_Played   3730 non-null   int64  \n",
      " 5   Games_Started  3730 non-null   int64  \n",
      " 6   Min_Played     3730 non-null   int64  \n",
      " 7   FG             3730 non-null   int64  \n",
      " 8   FGA            3730 non-null   int64  \n",
      " 9   FG%            3698 non-null   float64\n",
      " 10  3P             3730 non-null   int64  \n",
      " 11  3PA            3730 non-null   int64  \n",
      " 12  3P%            3045 non-null   float64\n",
      " 13  2P             3730 non-null   int64  \n",
      " 14  2PA            3730 non-null   int64  \n",
      " 15  2P%            3679 non-null   float64\n",
      " 16  eFG%           3698 non-null   float64\n",
      " 17  FT             3730 non-null   int64  \n",
      " 18  FTA            3730 non-null   int64  \n",
      " 19  FT%            3524 non-null   float64\n",
      " 20  ORB            3730 non-null   int64  \n",
      " 21  TRB            3730 non-null   int64  \n",
      " 22  AST            3730 non-null   int64  \n",
      " 23  STL            3730 non-null   int64  \n",
      " 24  BLK            3730 non-null   int64  \n",
      " 25  TOV            3730 non-null   int64  \n",
      " 26  PF             3730 non-null   int64  \n",
      " 27  PTS            3730 non-null   int64  \n",
      " 28  PER            3726 non-null   float64\n",
      " 29  TS%            3705 non-null   float64\n",
      " 30  3PAr           3698 non-null   float64\n",
      " 31  FTr            3698 non-null   float64\n",
      " 32  ORB%           3726 non-null   float64\n",
      " 33  TRB%           3726 non-null   float64\n",
      " 34  AST%           3726 non-null   float64\n",
      " 35  STL%           3726 non-null   float64\n",
      " 36  BLK%           3726 non-null   float64\n",
      " 37  TOV%           3715 non-null   float64\n",
      " 38  USG%           3726 non-null   float64\n",
      " 39  OWS            3730 non-null   float64\n",
      " 40  DWS            3730 non-null   float64\n",
      " 41  WS             3730 non-null   float64\n",
      " 42  WS/40          3726 non-null   float64\n",
      "dtypes: float64(20), int64(20), object(3)\n",
      "memory usage: 1.3+ MB\n"
     ]
    }
   ],
   "source": [
    "main_df.info()"
   ]
  },
  {
   "cell_type": "code",
   "execution_count": 22,
   "metadata": {},
   "outputs": [
    {
     "ename": "TypeError",
     "evalue": "unsupported operand type(s) for /: 'str' and 'str'",
     "output_type": "error",
     "traceback": [
      "\u001b[0;31m---------------------------------------------------------------------------\u001b[0m",
      "\u001b[0;31mTypeError\u001b[0m                                 Traceback (most recent call last)",
      "\u001b[0;32m<ipython-input-22-1ccfaa4bc8eb>\u001b[0m in \u001b[0;36m<module>\u001b[0;34m\u001b[0m\n\u001b[0;32m----> 1\u001b[0;31m \u001b[0mreduced_df\u001b[0m \u001b[0;34m=\u001b[0m \u001b[0mmain_df\u001b[0m\u001b[0;34m.\u001b[0m\u001b[0mloc\u001b[0m\u001b[0;34m[\u001b[0m\u001b[0;34m:\u001b[0m\u001b[0;34m,\u001b[0m \u001b[0;34m[\u001b[0m\u001b[0;34m'Games_Started'\u001b[0m\u001b[0;34m/\u001b[0m\u001b[0;34m'Games_Played'\u001b[0m\u001b[0;34m,\u001b[0m\u001b[0;34m'PTS'\u001b[0m\u001b[0;34m/\u001b[0m\u001b[0;34m'Games_Played'\u001b[0m\u001b[0;34m,\u001b[0m \u001b[0;34m'PER'\u001b[0m\u001b[0;34m,\u001b[0m \u001b[0;34m'TS%'\u001b[0m\u001b[0;34m,\u001b[0m\u001b[0;34m'ORB%'\u001b[0m\u001b[0;34m,\u001b[0m\u001b[0;34m'TRB%'\u001b[0m\u001b[0;34m,\u001b[0m\u001b[0;34m'AST%'\u001b[0m\u001b[0;34m,\u001b[0m\u001b[0;34m'STL%'\u001b[0m\u001b[0;34m,\u001b[0m\u001b[0;34m'BLK%'\u001b[0m\u001b[0;34m,\u001b[0m\u001b[0;34m'TOV%'\u001b[0m\u001b[0;34m,\u001b[0m\u001b[0;34m'USG%'\u001b[0m\u001b[0;34m,\u001b[0m \u001b[0;34m'WS/40'\u001b[0m\u001b[0;34m]\u001b[0m\u001b[0;34m]\u001b[0m\u001b[0;34m\u001b[0m\u001b[0;34m\u001b[0m\u001b[0m\n\u001b[0m",
      "\u001b[0;31mTypeError\u001b[0m: unsupported operand type(s) for /: 'str' and 'str'"
     ]
    }
   ],
   "source": [
    "reduced_df = main_df.loc[:, ['Games_Started'/'Games_Played','PTS'/'Games_Played', 'PER', 'TS%','ORB%','TRB%','AST%','STL%','BLK%','TOV%','USG%', 'WS/40']]"
   ]
  },
  {
   "cell_type": "code",
   "execution_count": 21,
   "metadata": {},
   "outputs": [
    {
     "data": {
      "text/html": [
       "<div>\n",
       "<style scoped>\n",
       "    .dataframe tbody tr th:only-of-type {\n",
       "        vertical-align: middle;\n",
       "    }\n",
       "\n",
       "    .dataframe tbody tr th {\n",
       "        vertical-align: top;\n",
       "    }\n",
       "\n",
       "    .dataframe thead th {\n",
       "        text-align: right;\n",
       "    }\n",
       "</style>\n",
       "<table border=\"1\" class=\"dataframe\">\n",
       "  <thead>\n",
       "    <tr style=\"text-align: right;\">\n",
       "      <th></th>\n",
       "      <th>TS%</th>\n",
       "      <th>WS/40</th>\n",
       "    </tr>\n",
       "  </thead>\n",
       "  <tbody>\n",
       "    <tr>\n",
       "      <th>0</th>\n",
       "      <td>0.427</td>\n",
       "      <td>-0.077</td>\n",
       "    </tr>\n",
       "    <tr>\n",
       "      <th>1</th>\n",
       "      <td>0.000</td>\n",
       "      <td>-0.138</td>\n",
       "    </tr>\n",
       "    <tr>\n",
       "      <th>2</th>\n",
       "      <td>0.449</td>\n",
       "      <td>0.038</td>\n",
       "    </tr>\n",
       "    <tr>\n",
       "      <th>3</th>\n",
       "      <td>0.404</td>\n",
       "      <td>-0.061</td>\n",
       "    </tr>\n",
       "    <tr>\n",
       "      <th>4</th>\n",
       "      <td>0.531</td>\n",
       "      <td>0.169</td>\n",
       "    </tr>\n",
       "    <tr>\n",
       "      <th>...</th>\n",
       "      <td>...</td>\n",
       "      <td>...</td>\n",
       "    </tr>\n",
       "    <tr>\n",
       "      <th>3725</th>\n",
       "      <td>0.459</td>\n",
       "      <td>-0.006</td>\n",
       "    </tr>\n",
       "    <tr>\n",
       "      <th>3726</th>\n",
       "      <td>0.420</td>\n",
       "      <td>0.067</td>\n",
       "    </tr>\n",
       "    <tr>\n",
       "      <th>3727</th>\n",
       "      <td>0.437</td>\n",
       "      <td>0.038</td>\n",
       "    </tr>\n",
       "    <tr>\n",
       "      <th>3728</th>\n",
       "      <td>0.560</td>\n",
       "      <td>0.098</td>\n",
       "    </tr>\n",
       "    <tr>\n",
       "      <th>3729</th>\n",
       "      <td>0.464</td>\n",
       "      <td>0.006</td>\n",
       "    </tr>\n",
       "  </tbody>\n",
       "</table>\n",
       "<p>3730 rows × 2 columns</p>\n",
       "</div>"
      ],
      "text/plain": [
       "        TS%  WS/40\n",
       "0     0.427 -0.077\n",
       "1     0.000 -0.138\n",
       "2     0.449  0.038\n",
       "3     0.404 -0.061\n",
       "4     0.531  0.169\n",
       "...     ...    ...\n",
       "3725  0.459 -0.006\n",
       "3726  0.420  0.067\n",
       "3727  0.437  0.038\n",
       "3728  0.560  0.098\n",
       "3729  0.464  0.006\n",
       "\n",
       "[3730 rows x 2 columns]"
      ]
     },
     "execution_count": 21,
     "metadata": {},
     "output_type": "execute_result"
    }
   ],
   "source": [
    "reduced_df"
   ]
  },
  {
   "cell_type": "code",
   "execution_count": null,
   "metadata": {},
   "outputs": [],
   "source": []
  }
 ],
 "metadata": {
  "kernelspec": {
   "display_name": "Python 3",
   "language": "python",
   "name": "python3"
  },
  "language_info": {
   "codemirror_mode": {
    "name": "ipython",
    "version": 3
   },
   "file_extension": ".py",
   "mimetype": "text/x-python",
   "name": "python",
   "nbconvert_exporter": "python",
   "pygments_lexer": "ipython3",
   "version": "3.7.6"
  }
 },
 "nbformat": 4,
 "nbformat_minor": 4
}
