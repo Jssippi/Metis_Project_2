{
 "cells": [
  {
   "cell_type": "code",
   "execution_count": null,
   "metadata": {},
   "outputs": [],
   "source": [
    "from bs4 import BeautifulSoup\n",
    "import requests\n",
    "import re"
   ]
  },
  {
   "cell_type": "code",
   "execution_count": null,
   "metadata": {},
   "outputs": [],
   "source": [
    "url = 'https://www.basketball-reference.com/wnba/years/2010_totals.html'\n",
    "response = requests.get(url)"
   ]
  },
  {
   "cell_type": "code",
   "execution_count": null,
   "metadata": {},
   "outputs": [],
   "source": [
    "response.status_code"
   ]
  },
  {
   "cell_type": "code",
   "execution_count": null,
   "metadata": {},
   "outputs": [],
   "source": [
    "response.text[0:1000]"
   ]
  },
  {
   "cell_type": "code",
   "execution_count": 98,
   "metadata": {},
   "outputs": [],
   "source": [
    "page = response.text"
   ]
  },
  {
   "cell_type": "code",
   "execution_count": 99,
   "metadata": {},
   "outputs": [],
   "source": [
    "soup = BeautifulSoup(page, 'html5lib')"
   ]
  },
  {
   "cell_type": "code",
   "execution_count": null,
   "metadata": {},
   "outputs": [],
   "source": [
    "print(soup.prettify())"
   ]
  },
  {
   "cell_type": "code",
   "execution_count": 110,
   "metadata": {},
   "outputs": [
    {
     "data": {
      "text/plain": [
       "'Svetlana AbrosimovaSEAF34168697234.41538101.37659133.444.4962544.56824104694036172257'"
      ]
     },
     "execution_count": 110,
     "metadata": {},
     "output_type": "execute_result"
    }
   ],
   "source": [
    "soup.find(class_=\"full_table\").text"
   ]
  },
  {
   "cell_type": "code",
   "execution_count": null,
   "metadata": {},
   "outputs": [],
   "source": [
    "data_row_object = soup.find()"
   ]
  },
  {
   "cell_type": "code",
   "execution_count": 142,
   "metadata": {},
   "outputs": [],
   "source": [
    "info_list=[]\n",
    "counter = 0\n",
    "\n",
    "\n",
    "for row in soup.find_all(class_=\"full_table\"):\n",
    "    #print(row.prettify())\n",
    "    info_list.append(row.find(attrs={'data-stat' : 'fg3_pct' }).text)\n",
    "    \n",
    "    #todos.append(row.get_text())\n",
    "    counter += 1"
   ]
  },
  {
   "cell_type": "code",
   "execution_count": 143,
   "metadata": {},
   "outputs": [
    {
     "data": {
      "text/plain": [
       "143"
      ]
     },
     "execution_count": 143,
     "metadata": {},
     "output_type": "execute_result"
    }
   ],
   "source": [
    "counter"
   ]
  },
  {
   "cell_type": "code",
   "execution_count": 144,
   "metadata": {},
   "outputs": [
    {
     "data": {
      "text/plain": [
       "['.376',\n",
       " '',\n",
       " '.184',\n",
       " '',\n",
       " '.333',\n",
       " '.336',\n",
       " '.417',\n",
       " '.000',\n",
       " '.000',\n",
       " '.338',\n",
       " '.399',\n",
       " '.250',\n",
       " '',\n",
       " '.167',\n",
       " '.358',\n",
       " '.250',\n",
       " '.391',\n",
       " '.000',\n",
       " '.182',\n",
       " '.160',\n",
       " '.407',\n",
       " '.295',\n",
       " '.448',\n",
       " '.000',\n",
       " '.333',\n",
       " '.400',\n",
       " '.402',\n",
       " '.446',\n",
       " '.273',\n",
       " '.143',\n",
       " '',\n",
       " '.303',\n",
       " '.391',\n",
       " '.000',\n",
       " '.292',\n",
       " '1.000',\n",
       " '.111',\n",
       " '.091',\n",
       " '.333',\n",
       " '.271',\n",
       " '.182',\n",
       " '.390',\n",
       " '.288',\n",
       " '.167',\n",
       " '.308',\n",
       " '.317',\n",
       " '.355',\n",
       " '',\n",
       " '.000',\n",
       " '.314',\n",
       " '.286',\n",
       " '.365',\n",
       " '.250',\n",
       " '.143',\n",
       " '.346',\n",
       " '1.000',\n",
       " '.356',\n",
       " '.351',\n",
       " '.309',\n",
       " '.300',\n",
       " '.250',\n",
       " '1.000',\n",
       " '.316',\n",
       " '.111',\n",
       " '.386',\n",
       " '.250',\n",
       " '.167',\n",
       " '.370',\n",
       " '.339',\n",
       " '.359',\n",
       " '.361',\n",
       " '.361',\n",
       " '.200',\n",
       " '.326',\n",
       " '.348',\n",
       " '',\n",
       " '.000',\n",
       " '.250',\n",
       " '',\n",
       " '.150',\n",
       " '.291',\n",
       " '.273',\n",
       " '.262',\n",
       " '.261',\n",
       " '',\n",
       " '.192',\n",
       " '.329',\n",
       " '.317',\n",
       " '.486',\n",
       " '.000',\n",
       " '.000',\n",
       " '.349',\n",
       " '.000',\n",
       " '.368',\n",
       " '.277',\n",
       " '',\n",
       " '',\n",
       " '.250',\n",
       " '.111',\n",
       " '.349',\n",
       " '.364',\n",
       " '.430',\n",
       " '.395',\n",
       " '.000',\n",
       " '.338',\n",
       " '.500',\n",
       " '.402',\n",
       " '.278',\n",
       " '.294',\n",
       " '.200',\n",
       " '',\n",
       " '',\n",
       " '',\n",
       " '.362',\n",
       " '.347',\n",
       " '.200',\n",
       " '.000',\n",
       " '.533',\n",
       " '',\n",
       " '.000',\n",
       " '.387',\n",
       " '.374',\n",
       " '.442',\n",
       " '.000',\n",
       " '',\n",
       " '.352',\n",
       " '.420',\n",
       " '.349',\n",
       " '1.000',\n",
       " '.400',\n",
       " '.000',\n",
       " '.000',\n",
       " '.227',\n",
       " '.366',\n",
       " '.457',\n",
       " '.452',\n",
       " '.000',\n",
       " '.340',\n",
       " '.411',\n",
       " '.263',\n",
       " '.277',\n",
       " '.229',\n",
       " '.422']"
      ]
     },
     "execution_count": 144,
     "metadata": {},
     "output_type": "execute_result"
    }
   ],
   "source": [
    "info_list"
   ]
  },
  {
   "cell_type": "code",
   "execution_count": null,
   "metadata": {},
   "outputs": [],
   "source": []
  }
 ],
 "metadata": {
  "kernelspec": {
   "display_name": "Python 3",
   "language": "python",
   "name": "python3"
  },
  "language_info": {
   "codemirror_mode": {
    "name": "ipython",
    "version": 3
   },
   "file_extension": ".py",
   "mimetype": "text/x-python",
   "name": "python",
   "nbconvert_exporter": "python",
   "pygments_lexer": "ipython3",
   "version": "3.7.6"
  }
 },
 "nbformat": 4,
 "nbformat_minor": 4
}
